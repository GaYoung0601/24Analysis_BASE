{
  "cells": [
    {
      "cell_type": "markdown",
      "metadata": {
        "id": "YjBFZlaaBMaa"
      },
      "source": [
        "# 과제 1 - SVM 회귀\n"
      ]
    },
    {
      "cell_type": "code",
      "execution_count": 74,
      "metadata": {
        "id": "8BgSKSPeBP6m"
      },
      "outputs": [],
      "source": [
        "import numpy as np\n",
        "import matplotlib.pyplot as plt\n",
        "from sklearn.model_selection import train_test_split\n",
        "from sklearn.svm import SVR, LinearSVR\n",
        "from sklearn.metrics import mean_squared_error, r2_score\n",
        "from sklearn.datasets import fetch_california_housing\n",
        "from sklearn.preprocessing import StandardScaler\n",
        "import warnings\n",
        "\n",
        "# 경고 메시지 무시\n",
        "warnings.filterwarnings('ignore')"
      ]
    },
    {
      "cell_type": "code",
      "execution_count": 75,
      "metadata": {
        "id": "lE9lHx4TBRVz"
      },
      "outputs": [],
      "source": [
        "# 데이터 로드\n",
        "california_housing = fetch_california_housing(as_frame=True)\n",
        "X, y = california_housing.data, california_housing.target\n",
        "\n",
        "# 위, 경도 데이터 열 삭제\n",
        "X = X.drop('Latitude', axis = 1)\n",
        "X = X.drop('Longitude', axis = 1)\n",
        "\n",
        "# 데이터 스케일\n",
        "scaler_X = StandardScaler()\n",
        "scaler_y = StandardScaler()\n",
        "X_scaled = scaler_X.fit_transform(X)\n",
        "y_scaled = scaler_y.fit_transform(y.values.reshape(-1, 1))\n",
        "\n",
        "# 훈련 및 테스트 세트 분리\n",
        "X_train, X_test, y_train, y_test = train_test_split(X_scaled, y_scaled, test_size=0.2, random_state=42)\n"
      ]
    },
    {
      "cell_type": "code",
      "execution_count": 76,
      "metadata": {
        "colab": {
          "base_uri": "https://localhost:8080/",
          "height": 80
        },
        "id": "Azi_pY_bBSYA",
        "outputId": "27ec2dc4-9cc7-4c71-8117-72e48bc2d4e5"
      },
      "outputs": [
        {
          "output_type": "execute_result",
          "data": {
            "text/plain": [
              "SVR(epsilon=0.01)"
            ],
            "text/html": [
              "<style>#sk-container-id-11 {\n",
              "  /* Definition of color scheme common for light and dark mode */\n",
              "  --sklearn-color-text: #000;\n",
              "  --sklearn-color-text-muted: #666;\n",
              "  --sklearn-color-line: gray;\n",
              "  /* Definition of color scheme for unfitted estimators */\n",
              "  --sklearn-color-unfitted-level-0: #fff5e6;\n",
              "  --sklearn-color-unfitted-level-1: #f6e4d2;\n",
              "  --sklearn-color-unfitted-level-2: #ffe0b3;\n",
              "  --sklearn-color-unfitted-level-3: chocolate;\n",
              "  /* Definition of color scheme for fitted estimators */\n",
              "  --sklearn-color-fitted-level-0: #f0f8ff;\n",
              "  --sklearn-color-fitted-level-1: #d4ebff;\n",
              "  --sklearn-color-fitted-level-2: #b3dbfd;\n",
              "  --sklearn-color-fitted-level-3: cornflowerblue;\n",
              "\n",
              "  /* Specific color for light theme */\n",
              "  --sklearn-color-text-on-default-background: var(--sg-text-color, var(--theme-code-foreground, var(--jp-content-font-color1, black)));\n",
              "  --sklearn-color-background: var(--sg-background-color, var(--theme-background, var(--jp-layout-color0, white)));\n",
              "  --sklearn-color-border-box: var(--sg-text-color, var(--theme-code-foreground, var(--jp-content-font-color1, black)));\n",
              "  --sklearn-color-icon: #696969;\n",
              "\n",
              "  @media (prefers-color-scheme: dark) {\n",
              "    /* Redefinition of color scheme for dark theme */\n",
              "    --sklearn-color-text-on-default-background: var(--sg-text-color, var(--theme-code-foreground, var(--jp-content-font-color1, white)));\n",
              "    --sklearn-color-background: var(--sg-background-color, var(--theme-background, var(--jp-layout-color0, #111)));\n",
              "    --sklearn-color-border-box: var(--sg-text-color, var(--theme-code-foreground, var(--jp-content-font-color1, white)));\n",
              "    --sklearn-color-icon: #878787;\n",
              "  }\n",
              "}\n",
              "\n",
              "#sk-container-id-11 {\n",
              "  color: var(--sklearn-color-text);\n",
              "}\n",
              "\n",
              "#sk-container-id-11 pre {\n",
              "  padding: 0;\n",
              "}\n",
              "\n",
              "#sk-container-id-11 input.sk-hidden--visually {\n",
              "  border: 0;\n",
              "  clip: rect(1px 1px 1px 1px);\n",
              "  clip: rect(1px, 1px, 1px, 1px);\n",
              "  height: 1px;\n",
              "  margin: -1px;\n",
              "  overflow: hidden;\n",
              "  padding: 0;\n",
              "  position: absolute;\n",
              "  width: 1px;\n",
              "}\n",
              "\n",
              "#sk-container-id-11 div.sk-dashed-wrapped {\n",
              "  border: 1px dashed var(--sklearn-color-line);\n",
              "  margin: 0 0.4em 0.5em 0.4em;\n",
              "  box-sizing: border-box;\n",
              "  padding-bottom: 0.4em;\n",
              "  background-color: var(--sklearn-color-background);\n",
              "}\n",
              "\n",
              "#sk-container-id-11 div.sk-container {\n",
              "  /* jupyter's `normalize.less` sets `[hidden] { display: none; }`\n",
              "     but bootstrap.min.css set `[hidden] { display: none !important; }`\n",
              "     so we also need the `!important` here to be able to override the\n",
              "     default hidden behavior on the sphinx rendered scikit-learn.org.\n",
              "     See: https://github.com/scikit-learn/scikit-learn/issues/21755 */\n",
              "  display: inline-block !important;\n",
              "  position: relative;\n",
              "}\n",
              "\n",
              "#sk-container-id-11 div.sk-text-repr-fallback {\n",
              "  display: none;\n",
              "}\n",
              "\n",
              "div.sk-parallel-item,\n",
              "div.sk-serial,\n",
              "div.sk-item {\n",
              "  /* draw centered vertical line to link estimators */\n",
              "  background-image: linear-gradient(var(--sklearn-color-text-on-default-background), var(--sklearn-color-text-on-default-background));\n",
              "  background-size: 2px 100%;\n",
              "  background-repeat: no-repeat;\n",
              "  background-position: center center;\n",
              "}\n",
              "\n",
              "/* Parallel-specific style estimator block */\n",
              "\n",
              "#sk-container-id-11 div.sk-parallel-item::after {\n",
              "  content: \"\";\n",
              "  width: 100%;\n",
              "  border-bottom: 2px solid var(--sklearn-color-text-on-default-background);\n",
              "  flex-grow: 1;\n",
              "}\n",
              "\n",
              "#sk-container-id-11 div.sk-parallel {\n",
              "  display: flex;\n",
              "  align-items: stretch;\n",
              "  justify-content: center;\n",
              "  background-color: var(--sklearn-color-background);\n",
              "  position: relative;\n",
              "}\n",
              "\n",
              "#sk-container-id-11 div.sk-parallel-item {\n",
              "  display: flex;\n",
              "  flex-direction: column;\n",
              "}\n",
              "\n",
              "#sk-container-id-11 div.sk-parallel-item:first-child::after {\n",
              "  align-self: flex-end;\n",
              "  width: 50%;\n",
              "}\n",
              "\n",
              "#sk-container-id-11 div.sk-parallel-item:last-child::after {\n",
              "  align-self: flex-start;\n",
              "  width: 50%;\n",
              "}\n",
              "\n",
              "#sk-container-id-11 div.sk-parallel-item:only-child::after {\n",
              "  width: 0;\n",
              "}\n",
              "\n",
              "/* Serial-specific style estimator block */\n",
              "\n",
              "#sk-container-id-11 div.sk-serial {\n",
              "  display: flex;\n",
              "  flex-direction: column;\n",
              "  align-items: center;\n",
              "  background-color: var(--sklearn-color-background);\n",
              "  padding-right: 1em;\n",
              "  padding-left: 1em;\n",
              "}\n",
              "\n",
              "\n",
              "/* Toggleable style: style used for estimator/Pipeline/ColumnTransformer box that is\n",
              "clickable and can be expanded/collapsed.\n",
              "- Pipeline and ColumnTransformer use this feature and define the default style\n",
              "- Estimators will overwrite some part of the style using the `sk-estimator` class\n",
              "*/\n",
              "\n",
              "/* Pipeline and ColumnTransformer style (default) */\n",
              "\n",
              "#sk-container-id-11 div.sk-toggleable {\n",
              "  /* Default theme specific background. It is overwritten whether we have a\n",
              "  specific estimator or a Pipeline/ColumnTransformer */\n",
              "  background-color: var(--sklearn-color-background);\n",
              "}\n",
              "\n",
              "/* Toggleable label */\n",
              "#sk-container-id-11 label.sk-toggleable__label {\n",
              "  cursor: pointer;\n",
              "  display: flex;\n",
              "  width: 100%;\n",
              "  margin-bottom: 0;\n",
              "  padding: 0.5em;\n",
              "  box-sizing: border-box;\n",
              "  text-align: center;\n",
              "  align-items: start;\n",
              "  justify-content: space-between;\n",
              "  gap: 0.5em;\n",
              "}\n",
              "\n",
              "#sk-container-id-11 label.sk-toggleable__label .caption {\n",
              "  font-size: 0.6rem;\n",
              "  font-weight: lighter;\n",
              "  color: var(--sklearn-color-text-muted);\n",
              "}\n",
              "\n",
              "#sk-container-id-11 label.sk-toggleable__label-arrow:before {\n",
              "  /* Arrow on the left of the label */\n",
              "  content: \"▸\";\n",
              "  float: left;\n",
              "  margin-right: 0.25em;\n",
              "  color: var(--sklearn-color-icon);\n",
              "}\n",
              "\n",
              "#sk-container-id-11 label.sk-toggleable__label-arrow:hover:before {\n",
              "  color: var(--sklearn-color-text);\n",
              "}\n",
              "\n",
              "/* Toggleable content - dropdown */\n",
              "\n",
              "#sk-container-id-11 div.sk-toggleable__content {\n",
              "  max-height: 0;\n",
              "  max-width: 0;\n",
              "  overflow: hidden;\n",
              "  text-align: left;\n",
              "  /* unfitted */\n",
              "  background-color: var(--sklearn-color-unfitted-level-0);\n",
              "}\n",
              "\n",
              "#sk-container-id-11 div.sk-toggleable__content.fitted {\n",
              "  /* fitted */\n",
              "  background-color: var(--sklearn-color-fitted-level-0);\n",
              "}\n",
              "\n",
              "#sk-container-id-11 div.sk-toggleable__content pre {\n",
              "  margin: 0.2em;\n",
              "  border-radius: 0.25em;\n",
              "  color: var(--sklearn-color-text);\n",
              "  /* unfitted */\n",
              "  background-color: var(--sklearn-color-unfitted-level-0);\n",
              "}\n",
              "\n",
              "#sk-container-id-11 div.sk-toggleable__content.fitted pre {\n",
              "  /* unfitted */\n",
              "  background-color: var(--sklearn-color-fitted-level-0);\n",
              "}\n",
              "\n",
              "#sk-container-id-11 input.sk-toggleable__control:checked~div.sk-toggleable__content {\n",
              "  /* Expand drop-down */\n",
              "  max-height: 200px;\n",
              "  max-width: 100%;\n",
              "  overflow: auto;\n",
              "}\n",
              "\n",
              "#sk-container-id-11 input.sk-toggleable__control:checked~label.sk-toggleable__label-arrow:before {\n",
              "  content: \"▾\";\n",
              "}\n",
              "\n",
              "/* Pipeline/ColumnTransformer-specific style */\n",
              "\n",
              "#sk-container-id-11 div.sk-label input.sk-toggleable__control:checked~label.sk-toggleable__label {\n",
              "  color: var(--sklearn-color-text);\n",
              "  background-color: var(--sklearn-color-unfitted-level-2);\n",
              "}\n",
              "\n",
              "#sk-container-id-11 div.sk-label.fitted input.sk-toggleable__control:checked~label.sk-toggleable__label {\n",
              "  background-color: var(--sklearn-color-fitted-level-2);\n",
              "}\n",
              "\n",
              "/* Estimator-specific style */\n",
              "\n",
              "/* Colorize estimator box */\n",
              "#sk-container-id-11 div.sk-estimator input.sk-toggleable__control:checked~label.sk-toggleable__label {\n",
              "  /* unfitted */\n",
              "  background-color: var(--sklearn-color-unfitted-level-2);\n",
              "}\n",
              "\n",
              "#sk-container-id-11 div.sk-estimator.fitted input.sk-toggleable__control:checked~label.sk-toggleable__label {\n",
              "  /* fitted */\n",
              "  background-color: var(--sklearn-color-fitted-level-2);\n",
              "}\n",
              "\n",
              "#sk-container-id-11 div.sk-label label.sk-toggleable__label,\n",
              "#sk-container-id-11 div.sk-label label {\n",
              "  /* The background is the default theme color */\n",
              "  color: var(--sklearn-color-text-on-default-background);\n",
              "}\n",
              "\n",
              "/* On hover, darken the color of the background */\n",
              "#sk-container-id-11 div.sk-label:hover label.sk-toggleable__label {\n",
              "  color: var(--sklearn-color-text);\n",
              "  background-color: var(--sklearn-color-unfitted-level-2);\n",
              "}\n",
              "\n",
              "/* Label box, darken color on hover, fitted */\n",
              "#sk-container-id-11 div.sk-label.fitted:hover label.sk-toggleable__label.fitted {\n",
              "  color: var(--sklearn-color-text);\n",
              "  background-color: var(--sklearn-color-fitted-level-2);\n",
              "}\n",
              "\n",
              "/* Estimator label */\n",
              "\n",
              "#sk-container-id-11 div.sk-label label {\n",
              "  font-family: monospace;\n",
              "  font-weight: bold;\n",
              "  display: inline-block;\n",
              "  line-height: 1.2em;\n",
              "}\n",
              "\n",
              "#sk-container-id-11 div.sk-label-container {\n",
              "  text-align: center;\n",
              "}\n",
              "\n",
              "/* Estimator-specific */\n",
              "#sk-container-id-11 div.sk-estimator {\n",
              "  font-family: monospace;\n",
              "  border: 1px dotted var(--sklearn-color-border-box);\n",
              "  border-radius: 0.25em;\n",
              "  box-sizing: border-box;\n",
              "  margin-bottom: 0.5em;\n",
              "  /* unfitted */\n",
              "  background-color: var(--sklearn-color-unfitted-level-0);\n",
              "}\n",
              "\n",
              "#sk-container-id-11 div.sk-estimator.fitted {\n",
              "  /* fitted */\n",
              "  background-color: var(--sklearn-color-fitted-level-0);\n",
              "}\n",
              "\n",
              "/* on hover */\n",
              "#sk-container-id-11 div.sk-estimator:hover {\n",
              "  /* unfitted */\n",
              "  background-color: var(--sklearn-color-unfitted-level-2);\n",
              "}\n",
              "\n",
              "#sk-container-id-11 div.sk-estimator.fitted:hover {\n",
              "  /* fitted */\n",
              "  background-color: var(--sklearn-color-fitted-level-2);\n",
              "}\n",
              "\n",
              "/* Specification for estimator info (e.g. \"i\" and \"?\") */\n",
              "\n",
              "/* Common style for \"i\" and \"?\" */\n",
              "\n",
              ".sk-estimator-doc-link,\n",
              "a:link.sk-estimator-doc-link,\n",
              "a:visited.sk-estimator-doc-link {\n",
              "  float: right;\n",
              "  font-size: smaller;\n",
              "  line-height: 1em;\n",
              "  font-family: monospace;\n",
              "  background-color: var(--sklearn-color-background);\n",
              "  border-radius: 1em;\n",
              "  height: 1em;\n",
              "  width: 1em;\n",
              "  text-decoration: none !important;\n",
              "  margin-left: 0.5em;\n",
              "  text-align: center;\n",
              "  /* unfitted */\n",
              "  border: var(--sklearn-color-unfitted-level-1) 1pt solid;\n",
              "  color: var(--sklearn-color-unfitted-level-1);\n",
              "}\n",
              "\n",
              ".sk-estimator-doc-link.fitted,\n",
              "a:link.sk-estimator-doc-link.fitted,\n",
              "a:visited.sk-estimator-doc-link.fitted {\n",
              "  /* fitted */\n",
              "  border: var(--sklearn-color-fitted-level-1) 1pt solid;\n",
              "  color: var(--sklearn-color-fitted-level-1);\n",
              "}\n",
              "\n",
              "/* On hover */\n",
              "div.sk-estimator:hover .sk-estimator-doc-link:hover,\n",
              ".sk-estimator-doc-link:hover,\n",
              "div.sk-label-container:hover .sk-estimator-doc-link:hover,\n",
              ".sk-estimator-doc-link:hover {\n",
              "  /* unfitted */\n",
              "  background-color: var(--sklearn-color-unfitted-level-3);\n",
              "  color: var(--sklearn-color-background);\n",
              "  text-decoration: none;\n",
              "}\n",
              "\n",
              "div.sk-estimator.fitted:hover .sk-estimator-doc-link.fitted:hover,\n",
              ".sk-estimator-doc-link.fitted:hover,\n",
              "div.sk-label-container:hover .sk-estimator-doc-link.fitted:hover,\n",
              ".sk-estimator-doc-link.fitted:hover {\n",
              "  /* fitted */\n",
              "  background-color: var(--sklearn-color-fitted-level-3);\n",
              "  color: var(--sklearn-color-background);\n",
              "  text-decoration: none;\n",
              "}\n",
              "\n",
              "/* Span, style for the box shown on hovering the info icon */\n",
              ".sk-estimator-doc-link span {\n",
              "  display: none;\n",
              "  z-index: 9999;\n",
              "  position: relative;\n",
              "  font-weight: normal;\n",
              "  right: .2ex;\n",
              "  padding: .5ex;\n",
              "  margin: .5ex;\n",
              "  width: min-content;\n",
              "  min-width: 20ex;\n",
              "  max-width: 50ex;\n",
              "  color: var(--sklearn-color-text);\n",
              "  box-shadow: 2pt 2pt 4pt #999;\n",
              "  /* unfitted */\n",
              "  background: var(--sklearn-color-unfitted-level-0);\n",
              "  border: .5pt solid var(--sklearn-color-unfitted-level-3);\n",
              "}\n",
              "\n",
              ".sk-estimator-doc-link.fitted span {\n",
              "  /* fitted */\n",
              "  background: var(--sklearn-color-fitted-level-0);\n",
              "  border: var(--sklearn-color-fitted-level-3);\n",
              "}\n",
              "\n",
              ".sk-estimator-doc-link:hover span {\n",
              "  display: block;\n",
              "}\n",
              "\n",
              "/* \"?\"-specific style due to the `<a>` HTML tag */\n",
              "\n",
              "#sk-container-id-11 a.estimator_doc_link {\n",
              "  float: right;\n",
              "  font-size: 1rem;\n",
              "  line-height: 1em;\n",
              "  font-family: monospace;\n",
              "  background-color: var(--sklearn-color-background);\n",
              "  border-radius: 1rem;\n",
              "  height: 1rem;\n",
              "  width: 1rem;\n",
              "  text-decoration: none;\n",
              "  /* unfitted */\n",
              "  color: var(--sklearn-color-unfitted-level-1);\n",
              "  border: var(--sklearn-color-unfitted-level-1) 1pt solid;\n",
              "}\n",
              "\n",
              "#sk-container-id-11 a.estimator_doc_link.fitted {\n",
              "  /* fitted */\n",
              "  border: var(--sklearn-color-fitted-level-1) 1pt solid;\n",
              "  color: var(--sklearn-color-fitted-level-1);\n",
              "}\n",
              "\n",
              "/* On hover */\n",
              "#sk-container-id-11 a.estimator_doc_link:hover {\n",
              "  /* unfitted */\n",
              "  background-color: var(--sklearn-color-unfitted-level-3);\n",
              "  color: var(--sklearn-color-background);\n",
              "  text-decoration: none;\n",
              "}\n",
              "\n",
              "#sk-container-id-11 a.estimator_doc_link.fitted:hover {\n",
              "  /* fitted */\n",
              "  background-color: var(--sklearn-color-fitted-level-3);\n",
              "}\n",
              "</style><div id=\"sk-container-id-11\" class=\"sk-top-container\"><div class=\"sk-text-repr-fallback\"><pre>SVR(epsilon=0.01)</pre><b>In a Jupyter environment, please rerun this cell to show the HTML representation or trust the notebook. <br />On GitHub, the HTML representation is unable to render, please try loading this page with nbviewer.org.</b></div><div class=\"sk-container\" hidden><div class=\"sk-item\"><div class=\"sk-estimator fitted sk-toggleable\"><input class=\"sk-toggleable__control sk-hidden--visually\" id=\"sk-estimator-id-11\" type=\"checkbox\" checked><label for=\"sk-estimator-id-11\" class=\"sk-toggleable__label fitted sk-toggleable__label-arrow\"><div><div>SVR</div></div><div><a class=\"sk-estimator-doc-link fitted\" rel=\"noreferrer\" target=\"_blank\" href=\"https://scikit-learn.org/1.6/modules/generated/sklearn.svm.SVR.html\">?<span>Documentation for SVR</span></a><span class=\"sk-estimator-doc-link fitted\">i<span>Fitted</span></span></div></label><div class=\"sk-toggleable__content fitted\"><pre>SVR(epsilon=0.01)</pre></div> </div></div></div></div>"
            ]
          },
          "metadata": {},
          "execution_count": 76
        }
      ],
      "source": [
        "# 모델 생성\n",
        "svr = SVR(epsilon = 0.01)\n",
        "\n",
        "# 모델 훈련\n",
        "svr.fit(X_train, y_train)\n"
      ]
    },
    {
      "cell_type": "code",
      "execution_count": 77,
      "metadata": {
        "colab": {
          "base_uri": "https://localhost:8080/"
        },
        "id": "qKctwVMaBTPU",
        "outputId": "4d263bac-ae72-4e6b-c0fb-5bc4ade8e60d"
      },
      "outputs": [
        {
          "output_type": "stream",
          "name": "stdout",
          "text": [
            "Mean Squared Error: 0.45835891638101384\n",
            "R-squared: 0.650216898699582\n"
          ]
        }
      ],
      "source": [
        "# 예측\n",
        "y_pred_scaled = svr.predict(X_test)\n",
        "\n",
        "# 스케일 복원\n",
        "y_test = scaler_y.inverse_transform(y_test.reshape(-1,1))\n",
        "y_pred = scaler_y.inverse_transform(y_pred_scaled.reshape(-1,1))\n",
        "\n",
        "# 성능 평가\n",
        "mse = mean_squared_error(y_test, y_pred)\n",
        "r2 = r2_score(y_test, y_pred)\n",
        "print(\"Mean Squared Error:\", mse)\n",
        "print(\"R-squared:\", r2)\n"
      ]
    },
    {
      "cell_type": "code",
      "source": [
        "print(y_pred)"
      ],
      "metadata": {
        "colab": {
          "base_uri": "https://localhost:8080/"
        },
        "id": "sKZeZaLgCQgt",
        "outputId": "64a23381-04f6-4ef6-bc21-a1d1da3150aa"
      },
      "execution_count": 78,
      "outputs": [
        {
          "output_type": "stream",
          "name": "stdout",
          "text": [
            "[[0.75859982]\n",
            " [1.36685297]\n",
            " [3.78972841]\n",
            " ...\n",
            " [4.62704727]\n",
            " [1.07361099]\n",
            " [1.75725154]]\n"
          ]
        }
      ]
    },
    {
      "cell_type": "code",
      "execution_count": 79,
      "metadata": {
        "colab": {
          "base_uri": "https://localhost:8080/",
          "height": 472
        },
        "id": "xkbEGZYSCcNs",
        "outputId": "be3c9fb6-4c89-4440-d1f9-fc78171daa75"
      },
      "outputs": [
        {
          "output_type": "display_data",
          "data": {
            "text/plain": [
              "<Figure size 640x480 with 1 Axes>"
            ],
            "image/png": "[encoded data removed]"
          },
          "metadata": {}
        }
      ],
      "source": [
        "# 일부 feature를 사용하여 2D로 시각화\n",
        "plt.scatter(y_test, y_pred, color='blue', edgecolor='k', s=5)\n",
        "plt.plot([min(y_test), max(y_test)], [min(y_test), max(y_test)], color='red', linewidth=2)\n",
        "plt.xlabel('Actual Prices')\n",
        "plt.ylabel('Predicted Prices')\n",
        "plt.title('Actual vs Predicted Prices')\n",
        "plt.show()\n"
      ]
    },
    {
      "cell_type": "markdown",
      "metadata": {
        "id": "aElTI1VBDIWs"
      },
      "source": [
        "## 과제 1-1 : epsilon 값을 변경하면서 LinearSVR을 적합한 후, 결과를 확인하고 이유를 분석해주세요!\n",
        "\n",
        "성능 평가 후 평가지표와 그래프를 사용해서 분석해주세요"
      ]
    },
    {
      "cell_type": "code",
      "execution_count": null,
      "metadata": {
        "colab": {
          "base_uri": "https://localhost:8080/",
          "height": 75
        },
        "id": "WSEEU4RxDUB8",
        "outputId": "0bed4b7a-4822-4507-e470-417476e53d48"
      },
      "outputs": [
        {
          "data": {
            "text/html": [
              "<style>#sk-container-id-18 {color: black;background-color: white;}#sk-container-id-18 pre{padding: 0;}#sk-container-id-18 div.sk-toggleable {background-color: white;}#sk-container-id-18 label.sk-toggleable__label {cursor: pointer;display: block;width: 100%;margin-bottom: 0;padding: 0.3em;box-sizing: border-box;text-align: center;}#sk-container-id-18 label.sk-toggleable__label-arrow:before {content: \"▸\";float: left;margin-right: 0.25em;color: #696969;}#sk-container-id-18 label.sk-toggleable__label-arrow:hover:before {color: black;}#sk-container-id-18 div.sk-estimator:hover label.sk-toggleable__label-arrow:before {color: black;}#sk-container-id-18 div.sk-toggleable__content {max-height: 0;max-width: 0;overflow: hidden;text-align: left;background-color: #f0f8ff;}#sk-container-id-18 div.sk-toggleable__content pre {margin: 0.2em;color: black;border-radius: 0.25em;background-color: #f0f8ff;}#sk-container-id-18 input.sk-toggleable__control:checked~div.sk-toggleable__content {max-height: 200px;max-width: 100%;overflow: auto;}#sk-container-id-18 input.sk-toggleable__control:checked~label.sk-toggleable__label-arrow:before {content: \"▾\";}#sk-container-id-18 div.sk-estimator input.sk-toggleable__control:checked~label.sk-toggleable__label {background-color: #d4ebff;}#sk-container-id-18 div.sk-label input.sk-toggleable__control:checked~label.sk-toggleable__label {background-color: #d4ebff;}#sk-container-id-18 input.sk-hidden--visually {border: 0;clip: rect(1px 1px 1px 1px);clip: rect(1px, 1px, 1px, 1px);height: 1px;margin: -1px;overflow: hidden;padding: 0;position: absolute;width: 1px;}#sk-container-id-18 div.sk-estimator {font-family: monospace;background-color: #f0f8ff;border: 1px dotted black;border-radius: 0.25em;box-sizing: border-box;margin-bottom: 0.5em;}#sk-container-id-18 div.sk-estimator:hover {background-color: #d4ebff;}#sk-container-id-18 div.sk-parallel-item::after {content: \"\";width: 100%;border-bottom: 1px solid gray;flex-grow: 1;}#sk-container-id-18 div.sk-label:hover label.sk-toggleable__label {background-color: #d4ebff;}#sk-container-id-18 div.sk-serial::before {content: \"\";position: absolute;border-left: 1px solid gray;box-sizing: border-box;top: 0;bottom: 0;left: 50%;z-index: 0;}#sk-container-id-18 div.sk-serial {display: flex;flex-direction: column;align-items: center;background-color: white;padding-right: 0.2em;padding-left: 0.2em;position: relative;}#sk-container-id-18 div.sk-item {position: relative;z-index: 1;}#sk-container-id-18 div.sk-parallel {display: flex;align-items: stretch;justify-content: center;background-color: white;position: relative;}#sk-container-id-18 div.sk-item::before, #sk-container-id-18 div.sk-parallel-item::before {content: \"\";position: absolute;border-left: 1px solid gray;box-sizing: border-box;top: 0;bottom: 0;left: 50%;z-index: -1;}#sk-container-id-18 div.sk-parallel-item {display: flex;flex-direction: column;z-index: 1;position: relative;background-color: white;}#sk-container-id-18 div.sk-parallel-item:first-child::after {align-self: flex-end;width: 50%;}#sk-container-id-18 div.sk-parallel-item:last-child::after {align-self: flex-start;width: 50%;}#sk-container-id-18 div.sk-parallel-item:only-child::after {width: 0;}#sk-container-id-18 div.sk-dashed-wrapped {border: 1px dashed gray;margin: 0 0.4em 0.5em 0.4em;box-sizing: border-box;padding-bottom: 0.4em;background-color: white;}#sk-container-id-18 div.sk-label label {font-family: monospace;font-weight: bold;display: inline-block;line-height: 1.2em;}#sk-container-id-18 div.sk-label-container {text-align: center;}#sk-container-id-18 div.sk-container {/* jupyter's `normalize.less` sets `[hidden] { display: none; }` but bootstrap.min.css set `[hidden] { display: none !important; }` so we also need the `!important` here to be able to override the default hidden behavior on the sphinx rendered scikit-learn.org. See: https://github.com/scikit-learn/scikit-learn/issues/21755 */display: inline-block !important;position: relative;}#sk-container-id-18 div.sk-text-repr-fallback {display: none;}</style><div id=\"sk-container-id-18\" class=\"sk-top-container\"><div class=\"sk-text-repr-fallback\"><pre>LinearSVR()</pre><b>In a Jupyter environment, please rerun this cell to show the HTML representation or trust the notebook. <br />On GitHub, the HTML representation is unable to render, please try loading this page with nbviewer.org.</b></div><div class=\"sk-container\" hidden><div class=\"sk-item\"><div class=\"sk-estimator sk-toggleable\"><input class=\"sk-toggleable__control sk-hidden--visually\" id=\"sk-estimator-id-18\" type=\"checkbox\" checked><label for=\"sk-estimator-id-18\" class=\"sk-toggleable__label sk-toggleable__label-arrow\">LinearSVR</label><div class=\"sk-toggleable__content\"><pre>LinearSVR()</pre></div></div></div></div></div>"
            ],
            "text/plain": [
              "LinearSVR()"
            ]
          },
          "execution_count": 96,
          "metadata": {},
          "output_type": "execute_result"
        }
      ],
      "source": [
        "# 모델 생성\n",
        "your_svr = SVR() # Todo\n",
        "\n",
        "\n",
        "# 모델 훈련\n",
        "your_svr.fit(X_train, y_train)\n"
      ]
    },
    {
      "cell_type": "code",
      "execution_count": null,
      "metadata": {
        "id": "51bKzdIVDYGG"
      },
      "outputs": [],
      "source": [
        "# Todo"
      ]
    },
    {
      "cell_type": "markdown",
      "metadata": {
        "id": "xJhUg-6LBYGg"
      },
      "source": [
        "# 과제 1-2 : SVM 분류"
      ]
    },
    {
      "cell_type": "code",
      "execution_count": 81,
      "metadata": {
        "id": "xFB3AR7MBUyn"
      },
      "outputs": [],
      "source": [
        "import numpy as np\n",
        "import matplotlib.pyplot as plt\n",
        "from sklearn.model_selection import train_test_split\n",
        "from sklearn.svm import LinearSVC\n",
        "from sklearn.metrics import accuracy_score, classification_report\n",
        "from sklearn.datasets import load_iris\n",
        "import warnings\n",
        "\n",
        "# 경고 메시지 무시\n",
        "warnings.filterwarnings('ignore')"
      ]
    },
    {
      "cell_type": "code",
      "execution_count": 82,
      "metadata": {
        "id": "OcRmApdCBi3w"
      },
      "outputs": [],
      "source": [
        "# 데이터 로드\n",
        "iris = load_iris()\n",
        "X, y = iris.data, iris.target\n",
        "\n",
        "# 훈련 및 테스트 세트 분리\n",
        "X_train, X_test, y_train, y_test = train_test_split(X, y, test_size=0.2, random_state=42)\n"
      ]
    },
    {
      "cell_type": "markdown",
      "metadata": {
        "id": "vFlxvt5_EJiD"
      },
      "source": [
        "## 과제 1 - 2 trade-off 파라미터 C 값 설정\n",
        "\n",
        "아래 수식처럼 C가 동작하는데, C가 작을수록 에러가 생겨도 가중치가 작기에 오버피팅을 막을 수 있음.\n",
        "\n",
        "![image.png](data:image/png;base64,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)\n"
      ]
    },
    {
      "cell_type": "code",
      "execution_count": 86,
      "metadata": {
        "colab": {
          "base_uri": "https://localhost:8080/",
          "height": 108
        },
        "id": "jRvqNkAxBjvf",
        "outputId": "5d1397cf-2d00-4127-9233-6675d9761fd7"
      },
      "outputs": [
        {
          "output_type": "error",
          "ename": "SyntaxError",
          "evalue": "invalid syntax (<ipython-input-86-e0d64406283e>, line 2)",
          "traceback": [
            "\u001b[0;36m  File \u001b[0;32m\"<ipython-input-86-e0d64406283e>\"\u001b[0;36m, line \u001b[0;32m2\u001b[0m\n\u001b[0;31m    C_values = [0.1, , , , , , , ,] # Todo\u001b[0m\n\u001b[0m                     ^\u001b[0m\n\u001b[0;31mSyntaxError\u001b[0m\u001b[0;31m:\u001b[0m invalid syntax\n"
          ]
        }
      ],
      "source": [
        "# 다양한 trade-off 파라미터 C 값 설정\n",
        "C_values = [0.1, , , , , , , ,] # Todo\n",
        "train_accuracies = []\n",
        "test_accuracies = []\n",
        "\n",
        "for C in C_values:\n",
        "    # 모델 생성\n",
        "    svc = LinearSVC(C=C)\n",
        "\n",
        "    # 모델 훈련\n",
        "    svc.fit(X_train, y_train)\n",
        "\n",
        "    # 훈련 데이터와 테스트 데이터에 대한 예측\n",
        "    y_train_pred = svc.predict(X_train)\n",
        "    y_test_pred = svc.predict(X_test)\n",
        "\n",
        "    # 정확도 계산\n",
        "    train_acc = accuracy_score(y_train, y_train_pred)\n",
        "    test_acc = accuracy_score(y_test, y_test_pred)\n",
        "\n",
        "    # 결과 저장\n",
        "    train_accuracies.append(train_acc)\n",
        "    test_accuracies.append(test_acc)\n",
        "\n",
        "    # 성능 출력\n",
        "    print(f\"C={C}:\")\n",
        "    print(f\"Training Accuracy: {train_acc}\")\n",
        "    print(f\"Testing Accuracy: {test_acc}\")\n",
        "    print(f\"Classification Report:\\n{classification_report(y_test, y_test_pred)}\")\n",
        "    print(\"-\" * 50)\n"
      ]
    },
    {
      "cell_type": "code",
      "execution_count": 87,
      "metadata": {
        "id": "5VEkB7m4Bkt2",
        "colab": {
          "base_uri": "https://localhost:8080/",
          "height": 569
        },
        "outputId": "b7bfd44c-226b-48d1-9752-853ec3472840"
      },
      "outputs": [
        {
          "output_type": "display_data",
          "data": {
            "text/plain": [
              "<Figure size 1000x600 with 1 Axes>"
            ],
            "image/png": "[encoded data removed]"
          },
          "metadata": {}
        }
      ],
      "source": [
        "# C 값에 따른 정확도 시각화\n",
        "plt.figure(figsize=(10, 6))\n",
        "plt.plot(C_values, train_accuracies, marker='o', label='Training Accuracy')\n",
        "plt.plot(C_values, test_accuracies, marker='o', label='Testing Accuracy')\n",
        "plt.xscale('log')\n",
        "plt.xlabel('C value (log scale)')\n",
        "plt.ylabel('Accuracy')\n",
        "plt.title('Effect of C on SVM Classification Accuracy')\n",
        "plt.legend()\n",
        "plt.grid(True)\n",
        "plt.show()\n"
      ]
    }
  ],
  "metadata": {
    "colab": {
      "provenance": []
    },
    "kernelspec": {
      "display_name": "Python 3",
      "name": "python3"
    },
    "language_info": {
      "name": "python"
    }
  },
  "nbformat": 4,
  "nbformat_minor": 0
}